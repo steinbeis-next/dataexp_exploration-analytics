{
 "cells": [
  {
   "cell_type": "markdown",
   "metadata": {},
   "source": [
    "<div>\n",
    "    <img style=\"float:right;\" src=\"images/snext-logo.png\"/>\n",
    "    <div style=\"float:left;color:#626262;padding-top:30px\"><h1>Exercise: Simple Data Exploration in Python</h1></div>\n",
    "</div>"
   ]
  },
  {
   "cell_type": "markdown",
   "metadata": {},
   "source": [
    "This notebooks contains the skeleton of a simple data exploration documentation. \n",
    "\n",
    "Use to familiarize yourself with the process, the commands by executing the given cells. Then complete the included assignments to practices your data visualization and interpretation skills."
   ]
  },
  {
   "cell_type": "markdown",
   "metadata": {
    "tags": []
   },
   "source": [
    "## 1. Choose and load dataset from database"
   ]
  },
  {
   "cell_type": "markdown",
   "metadata": {},
   "source": [
    "First, we have to load data onto our digital \"workbench\". We use Python and the Pandas library. In case you are not familiar, please first work through the tutorials also included in this course, as this is a prerequisite to this exercise.\n",
    "\n",
    "### Case\n",
    "The CRM team of a telecommunications company is developing a customer retention campaign for private customers. To make them stay loyal to the company, free months and discounts will be offered for signing up for a contract extension.\n",
    "\n",
    "For the campaign to be successful economically, it is necessary to only target customers with a high risk of cancelling. Otherwise, the campaign would be giving out unnecessary discounts, resulting in immediate lost revenue.\n",
    "\n",
    "### Dataset description\n",
    "The data set includes the following features, some features for the months september (sep_...) and october (oct_...):\n",
    "- Aggregate of Total Revenue: The overall monthly revenue earned in Rupees by the carrier in the months August & September.\n",
    "- Aggregate of SMS Revenue: The revenue earned through the SMS service used by the subscriber.\n",
    "- Aggregate of Data Revenue: The revenue earned through the Data service used by the subscriber.\n",
    "- Aggregate of Off Net Revenue: The revenue earned by the calls etc. made to the off-network (not the same network as the subscriber) customers by the carrier’s -present subscriber.\n",
    "- Aggregate of On Net Revenue: The revenue earned by the calls etc. made to the on-network (on the same network as the subscriber) customers by the carrier’s present subscriber.-\n",
    "- Network Age: The time passed since the subscriber started using the services of the carrier.\n",
    "- User Type: This detail helps in knowing if the user is subscribed to a 2G (voice, no data plan) or 3G/4G/5G... (\"3G\") service.\n",
    "- Aggregate of Complaint Count: The number of complaints made by the subscribers.\n",
    "- Favorite Other Network: This information can certainly have a huge impact on churn ratio as it gives the information about which other network or operator the subscribers makes the most of the calls to and thus might influence the customer to move to that network to save money.\n",
    "- Aggregate of Data Volume: The volume of the data service used by the subscriber.\n",
    "- Class: Did the customer churn or remain active."
   ]
  },
  {
   "cell_type": "markdown",
   "metadata": {},
   "source": [
    "Load required libraries and jupyter extenions"
   ]
  },
  {
   "cell_type": "code",
   "execution_count": null,
   "metadata": {},
   "outputs": [],
   "source": [
    "import pandas as pd\n",
    "import requests\n",
    "import matplotlib.pyplot as plt\n",
    "\n",
    "# load Jupyter plugins to enable SQL to query data and display plots inline (below the code cell)\n",
    "\n",
    "%load_ext sql\n",
    "%matplotlib inline"
   ]
  },
  {
   "cell_type": "code",
   "execution_count": null,
   "metadata": {},
   "outputs": [],
   "source": [
    "# The data for this exercise is contained in a sqlite database that is compressed with ZIP\n",
    "# ZIP file is expected to be in folder data \n",
    "\n",
    "# Uncompress database / skip this if you downloaded and unzipped the database manually\n",
    "import zipfile\n",
    "zipfile.ZipFile('data/snext-exercises.zip', 'r').extractall('data')"
   ]
  },
  {
   "cell_type": "code",
   "execution_count": null,
   "metadata": {},
   "outputs": [],
   "source": [
    "%sql sqlite:///data/snext-exercises.db"
   ]
  },
  {
   "cell_type": "markdown",
   "metadata": {},
   "source": [
    "Load anonymized records from an asian telco provider to practice data exploration."
   ]
  },
  {
   "cell_type": "code",
   "execution_count": null,
   "metadata": {},
   "outputs": [],
   "source": [
    "data = %sql SELECT * FROM telco_churn_asia\n",
    "df = data.DataFrame()"
   ]
  },
  {
   "cell_type": "markdown",
   "metadata": {},
   "source": [
    "... and check the dataframe content ..."
   ]
  },
  {
   "cell_type": "code",
   "execution_count": null,
   "metadata": {},
   "outputs": [],
   "source": [
    "df.head()"
   ]
  },
  {
   "cell_type": "markdown",
   "metadata": {
    "tags": []
   },
   "source": [
    "## 2. Explore dataset with descriptive statistics\n"
   ]
  },
  {
   "cell_type": "code",
   "execution_count": null,
   "metadata": {},
   "outputs": [],
   "source": [
    "# Generate descriptive statistics for all numeric features\n",
    "df.describe()"
   ]
  },
  {
   "cell_type": "code",
   "execution_count": null,
   "metadata": {},
   "outputs": [],
   "source": [
    "# Look at a nominal features\n",
    "df.aug_user_type.value_counts()"
   ]
  },
  {
   "cell_type": "code",
   "execution_count": null,
   "metadata": {},
   "outputs": [],
   "source": [
    "# Analyze monthly revenue\n",
    "df_active_customers = df.copy()\n",
    "df_active_customers = df_active_customers[df_active_customers.network_age >= 0]  # we have customers with negative network_age, who have booked a service but are not using it yet\n",
    "df_active_customers[\"monthly_rev\"] = df_active_customers.Aggregate_Total_Rev / (df_active_customers.network_age/30)\n",
    "df_active_customers.monthly_rev.describe()"
   ]
  },
  {
   "cell_type": "code",
   "execution_count": null,
   "metadata": {},
   "outputs": [],
   "source": [
    "# Divide age (# of days the customer uses the service) by 30 to get months and describe the resulting dataset\n",
    "(df.network_age/30).describe()"
   ]
  },
  {
   "cell_type": "code",
   "execution_count": null,
   "metadata": {},
   "outputs": [],
   "source": [
    "# Look at outliers of total revenue\n",
    "print(\"10% of customers with less than \", df.Aggregate_Total_Rev.quantile(0.1), \" total revenue\")\n",
    "print(\"10% of customers with more than \", df.Aggregate_Total_Rev.quantile(0.9), \" total revenue\")"
   ]
  },
  {
   "cell_type": "markdown",
   "metadata": {
    "tags": []
   },
   "source": [
    "---\n",
    "### <span style=\"color:#46B7E9;\">Assignment: Analyze further customer attributes to answer key questions</span>\n",
    "1. Think about how to answer these further questions\n",
    "   - What are favorite other networks and did the distribution change in the observed timeframe?\n",
    "   - How much data volume did the customers use and are there outliers that we should know about when designing data plans?\n",
    "2. Develop 2 further questions that can be answered with the dataset.\n",
    "3. Think about the scale of measurement (nominal, ordinal, metric) of the variable you are analyzing and find answers to your questions using the dataframe object.\n",
    "\n",
    "If feeling unsure, ask AI chatbots or google code examples to find commands or patterns you can't remember from the introduction."
   ]
  },
  {
   "cell_type": "code",
   "execution_count": null,
   "metadata": {},
   "outputs": [],
   "source": []
  },
  {
   "cell_type": "markdown",
   "metadata": {},
   "source": [
    "Now check: Do you have a rough understanding about what kinds of customers are in the dataset?"
   ]
  },
  {
   "cell_type": "markdown",
   "metadata": {
    "tags": []
   },
   "source": [
    "## 3. Visualize single variables"
   ]
  },
  {
   "cell_type": "code",
   "execution_count": null,
   "metadata": {},
   "outputs": [],
   "source": [
    "df.aug_user_type.value_counts().plot(kind=\"bar\", title=\"Service Subscription in August\", xlabel=\"Kind of service\", ylabel=\"# of customers\")"
   ]
  },
  {
   "cell_type": "code",
   "execution_count": null,
   "metadata": {},
   "outputs": [],
   "source": [
    "df.Aggregate_Total_Rev.plot(kind=\"box\", title=\"Distribution of Total Revenue\", ylabel=\"USD\")"
   ]
  },
  {
   "cell_type": "code",
   "execution_count": null,
   "metadata": {},
   "outputs": [],
   "source": [
    "# we have to remove some extreme outliers for the boxplot to be better readable\n",
    "df[df.Aggregate_Total_Rev < 5000].Aggregate_Total_Rev.plot(kind=\"box\", title=\"Distribution of Total Revenue\", ylabel=\"USD\")"
   ]
  },
  {
   "cell_type": "markdown",
   "metadata": {
    "tags": []
   },
   "source": [
    "---\n",
    "### <span style=\"color:#46B7E9;\">Assignment: Visualize the answers to the questions you developed</span>\n",
    "To dig a little deeper and present the information in a better digestable way, now try to visualize the answers to the questions you developed in chapter 2.\n",
    "\n",
    "1. Think about the scale (nominal, ordinal, metric), the question you have in mind and which chart type would be a good fit.\n",
    "2. If unsure, get inspiration from the [Python Graph Gallery](https://www.python-graph-gallery.com). Keep in mind, we started using matplotlib as plotting library, some examples are for seaborn.\n",
    "3. Bring the diagram into shape, add formatting, labels etc. When unsure about commands, check the documentation of pandas ```plot()``` command [here](https://pandas.pydata.org/docs/reference/api/pandas.DataFrame.plot.html) or google for \"matplotlib cheat sheet\" or ask your preferred AI chatbot."
   ]
  },
  {
   "cell_type": "code",
   "execution_count": null,
   "metadata": {},
   "outputs": [],
   "source": []
  },
  {
   "cell_type": "markdown",
   "metadata": {
    "tags": []
   },
   "source": [
    "## 4. Analyze and visualize multiple variables"
   ]
  },
  {
   "cell_type": "code",
   "execution_count": null,
   "metadata": {},
   "outputs": [],
   "source": [
    "# do customers switch service or is this stable in the observed timeframe?\n",
    "pd.crosstab(df.aug_user_type, df.sep_user_type, margins=True)"
   ]
  },
  {
   "cell_type": "code",
   "execution_count": null,
   "metadata": {},
   "outputs": [],
   "source": [
    "# what are favored networks of churned vs. active customers? Callers to which networks did churn more often?\n",
    "pd.crosstab(df.Class, df.aug_fav_a, margins=True)"
   ]
  },
  {
   "cell_type": "code",
   "execution_count": null,
   "metadata": {},
   "outputs": [],
   "source": [
    "# do customers with many calls also use more data? do we see a correlation?\n",
    "df.loc[:,[\"Aggregate_Calls\", \"Aggregate_Data_Vol\"]].corr()"
   ]
  },
  {
   "cell_type": "code",
   "execution_count": null,
   "metadata": {},
   "outputs": [],
   "source": [
    "# Important predictor for churn is the ratio of onnet revenue and offnet revenue. Customers who primarily call people in other networks are probably more likely to churn.\n",
    "# Let's analyze all non-outlier customers (remove those exceeding the 90% quantile)\n",
    "# Are there customers in the upper left corner of the plot (way more offnet revenue compared to onnet revenue)\n",
    "\n",
    "df[\"avg_daily_onnet_rev\"] = df.Aggregate_ONNET_REV / df.network_age\n",
    "df[\"avg_daily_offnet_rev\"] = df.Aggregate_OFFNET_REV / df.network_age\n",
    "\n",
    "df[df.network_age > 0].plot(kind=\"scatter\", title=\"Off-net vs On-net total revenue\", \n",
    "           x=\"avg_daily_onnet_rev\", y=\"avg_daily_offnet_rev\",\n",
    "            xlim=[0,100], ylim=[0,100],\n",
    "            xlabel=\"Average Daily On-Net Revenue\", ylabel=\"Average Daily Off-Net Revenue\")"
   ]
  },
  {
   "cell_type": "code",
   "execution_count": null,
   "metadata": {},
   "outputs": [],
   "source": [
    "(df.Aggregate_Calls/df.network_age).plot(kind=\"hist\", bins=100,  xlim=[0,5])"
   ]
  },
  {
   "cell_type": "markdown",
   "metadata": {
    "tags": []
   },
   "source": [
    "---\n",
    "### <span style=\"color:#46B7E9;\">Assignment: Try to find more interesting relationships between the included features</span>\n",
    "1. Output the ```df.head()``` again and look at the variables. Think about what relationships and you expect to be in the data? What could be relevant to explain churn?\n",
    "2. Write down guiding questions in a markdown cell.\n",
    "3. Output the statistics or diagrams to answer your questions."
   ]
  },
  {
   "cell_type": "code",
   "execution_count": null,
   "metadata": {},
   "outputs": [],
   "source": []
  }
 ],
 "metadata": {
  "kernelspec": {
   "display_name": "Python 3 (ipykernel)",
   "language": "python",
   "name": "python3"
  },
  "language_info": {
   "codemirror_mode": {
    "name": "ipython",
    "version": 3
   },
   "file_extension": ".py",
   "mimetype": "text/x-python",
   "name": "python",
   "nbconvert_exporter": "python",
   "pygments_lexer": "ipython3",
   "version": "3.11.5"
  }
 },
 "nbformat": 4,
 "nbformat_minor": 4
}
